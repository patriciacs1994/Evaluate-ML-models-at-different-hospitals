{
 "cells": [
  {
   "cell_type": "markdown",
   "id": "6e2d22ab",
   "metadata": {},
   "source": [
    "# Performance simulation in live clinical workflow"
   ]
  },
  {
   "cell_type": "markdown",
   "id": "b009e011",
   "metadata": {},
   "source": [
    "### 1. Import required libraries"
   ]
  },
  {
   "cell_type": "code",
   "execution_count": null,
   "id": "7a9daccd",
   "metadata": {},
   "outputs": [],
   "source": [
    "from mlpipeline.evaluation import model_evaluater\n",
    "from mlpipeline import mlpipeline_settings\n",
    "from datetime import timedelta\n",
    "from scipy.stats import norm\n",
    "from math import sqrt\n",
    "from matplotlib.dates import DateFormatter\n",
    "import pandas as pd\n",
    "import math\n",
    "import numpy as np\n",
    "import matplotlib.pyplot as plt\n",
    "import re"
   ]
  },
  {
   "cell_type": "markdown",
   "id": "29e6bc9e",
   "metadata": {},
   "source": [
    "### 2. Provide some general information about the log"
   ]
  },
  {
   "cell_type": "code",
   "execution_count": null,
   "id": "161f1498",
   "metadata": {},
   "outputs": [],
   "source": [
    "# General inputs\n",
    "use_case = 'del'\n",
    "customer = 'HDZ'\n",
    "\n",
    "date_logs =['20210219', '20210226', '20210305','20210319','20210409','20210416','20210507','20210521','20210528','20210604','20210611','20210618','20210625','20210709','20210723','20210806']\n",
    "\n",
    "path = r'logs'\n",
    "path_log_file = f'{path}/{customer}/{date_logs[-1]}'\n",
    "dates_indicator = '_'.join(date_logs)\n",
    "\n",
    "# If the last of item of date_logs is earlier than the available outcome, manually update the path below\n",
    "path_outcome_file = f'{path_log_file}/{date_logs[-1]}_{customer.lower()}_{use_case[0:3]}.txt'"
   ]
  },
  {
   "cell_type": "markdown",
   "id": "ae7135e0",
   "metadata": {},
   "source": [
    "### 3. Read in the log file and create a dataframe containing all observation in the log"
   ]
  },
  {
   "cell_type": "code",
   "execution_count": null,
   "id": "6e5f7673",
   "metadata": {},
   "outputs": [],
   "source": [
    "### STEP 0: merge the log files\n",
    "aggregated_log=[]\n",
    "\n",
    "for date_log in date_logs:\n",
    "    with open(f'{path}/{customer}/{date_log}/{customer}_{date_log}-{use_case[0:3]}-model.log', \"r\") as log:\n",
    "        for line in log:\n",
    "            aggregated_log.append(line)\n"
   ]
  },
  {
   "cell_type": "markdown",
   "id": "520a903b",
   "metadata": {},
   "source": [
    "### 4. Extract the predictions from the RESPONSE line in the log"
   ]
  },
  {
   "cell_type": "code",
   "execution_count": null,
   "id": "e2d7a2e9",
   "metadata": {},
   "outputs": [],
   "source": [
    "prediction_data = pd.DataFrame(columns=['CASEID','DATE', 'OBS','BELIEF'])\n",
    "cases=[]\n",
    "beliefs = []\n",
    "observations = []\n",
    "dates=[]\n",
    "for line in aggregated_log:\n",
    "    if re.search('RESPONSE',line):\n",
    "        step1 = re.sub('^.* RESPONSE ','',line)\n",
    "        step2 = re.sub('\\\\\\\\n\".*$','',step1)\n",
    "        step3 = re.sub('^.*:\"','',line)[:19]\n",
    "        \n",
    "        step5 = line.replace(\"\\\\\",\"\")\n",
    "        obs = re.sub('}n',': ',step5).split('\": \"')[2]\n",
    "        result = re.sub('\\n', '', step2)\n",
    "        case = result.split(': ')[0]\n",
    "        belief = result.split(': ')[2].split(',')[0]\n",
    "        cases.append(case)\n",
    "        # NOTE: in 3.0 score != belief, BELIEF = EXP(SCORE)\n",
    "\n",
    "        if ('DELIRIUM 1' in line )| ('SEPSIS 1' in line )|('AKI 1' in line ):\n",
    "            beliefs.append(math.exp(float(belief)))\n",
    "        else:\n",
    "            beliefs.append(1-math.exp(float(belief)))        \n",
    "        \n",
    "        dates.append(step3)\n",
    "        observations.append(obs)\n",
    "            \n",
    "prediction_data.CASEID = cases\n",
    "prediction_data.BELIEF = beliefs  \n",
    "prediction_data.DATE = dates\n",
    "prediction_data.OBS = observations\n",
    "prediction_data = prediction_data.sort_values(['CASEID','DATE'])\n",
    "\n",
    "# Possibility to save intermediary steps \n",
    "prediction_data.to_csv(f'{path_log_file}/{use_case}/prediction_data_{dates_indicator}_{use_case[0:3]}.csv', index = False, sep = \";\")"
   ]
  },
  {
   "cell_type": "code",
   "execution_count": null,
   "id": "9e0b711d",
   "metadata": {},
   "outputs": [],
   "source": [
    "prediction_data = prediction_data.drop_duplicates()\n",
    "prediction_data['CASEID'] = prediction_data['CASEID'].astype(int)\n",
    "prediction_data.head()\n",
    "\n",
    "prediction_data['DATETIME'] = pd.to_datetime(prediction_data['DATE'], format=\"%Y-%m-%dT%H:%M:%S\")\n",
    "\n",
    "# date is only on day level\n",
    "prediction_data['DATE'] = prediction_data['DATETIME'].apply(lambda x: x.date())\n",
    "\n",
    "# for predicitons that are belonging to a same medical case and that has same observations, only take the last instance.\n",
    "prediction_data['DATETIME'] = prediction_data.groupby(['CASEID','DATE','OBS','BELIEF'])['DATETIME'].transform(max)"
   ]
  },
  {
   "cell_type": "markdown",
   "id": "efb85052",
   "metadata": {},
   "source": [
    "### 5. Select a specific medical case"
   ]
  },
  {
   "cell_type": "code",
   "execution_count": null,
   "id": "25ab726e",
   "metadata": {},
   "outputs": [],
   "source": [
    "medical_case = prediction_data[prediction_data.CASEID == 1683205]"
   ]
  },
  {
   "cell_type": "markdown",
   "id": "915e69ae",
   "metadata": {},
   "source": [
    "### 6. Calculate predictions with models trained in different hospitals"
   ]
  },
  {
   "cell_type": "code",
   "execution_count": null,
   "id": "91759a6f",
   "metadata": {},
   "outputs": [],
   "source": [
    "# models for delirium\n",
    "hf_datetime = pd.to_datetime('2021-04-16 07:57:47', format=\"%Y-%m-%d %H:%M:%S\") # when the model have been changed\n",
    "model_v_old_HDZ = 1611085421\n",
    "model_v_new_HDZ = 1618005122\n",
    "models = [model_v_old_HDZ, model_v_new_HDZ, model_v_old_MHS, model_v_new_MHS, model_v_old_MKN, model_v_new_MKN]    "
   ]
  },
  {
   "cell_type": "code",
   "execution_count": null,
   "id": "517e2e80",
   "metadata": {},
   "outputs": [],
   "source": [
    "def rescale_belief(o, belief):\n",
    "    b = math.exp(belief)\n",
    "    # belief in DISEASE 0 is 1 - belief in DISEASE 1\n",
    "    if o == 0:\n",
    "        b = 1 - b\n",
    "  \n",
    "  # transform the belief thresholds to risk score thresholds\n",
    "    rescaled = np.interp(b, belief_thresholds, risk_score_thresholds)\n",
    "    return rescaled\n",
    "\n",
    "belief_thresholds = [0, 0.2, 0.4, 1]\n",
    "risk_score_thresholds = [0, 0.5, 0.75, 1]\n",
    "\n",
    "def generate_observations(obs_df):\n",
    "    for i in range(len(obs_df)):\n",
    "        yield {\n",
    "            \"inputs\": obs_df.OBS_COMPLETE.iloc[i],\n",
    "            \"label\": \"\",\n",
    "            \"caseid\": obs_df.CASEID.iloc[i],\n",
    "            \"med_day\": \"\",\n",
    "            \"hour_group\": \"\"\n",
    "        }\n",
    "        \n",
    "def get_confidence_interval(p, n, confidence = 0.95):\n",
    "    if n < 1:\n",
    "        return [float('NaN'), float('NaN')]\n",
    "    left_bound = 0.5 - confidence / 2\n",
    "    right_bound = 0.5 + confidence / 2\n",
    "    z_left = norm.ppf(left_bound)\n",
    "    z_right = norm.ppf(right_bound)\n",
    "    return [round(p + z_left * sqrt(p * (1 - p) / n),3),\n",
    "            round(p + z_right * sqrt(p * (1 - p) / n),3)]\n"
   ]
  },
  {
   "cell_type": "code",
   "execution_count": null,
   "id": "9d7290b7",
   "metadata": {},
   "outputs": [],
   "source": [
    "# Calculate predictions with the delirium model of each hospital\n",
    "use_case_complete_name = 'delirium'\n",
    "\n",
    "prediction_data_old = model_evaluater.run(\n",
    "    generate_observations(medical_case_complete), use_case_complete_name , mlpipeline_settings, model_version=models[0])\n",
    "\n",
    "prediction_data = model_evaluater.run(\n",
    "    generate_observations(medical_case_complete), use_case_complete_name , mlpipeline_settings, model_version=models[1])\n",
    "\n",
    "medical_case_complete['BELIEF_1'] = prediction_data_old.apply(lambda row: rescale_belief(row['PREDICTION'],row['SCORE']),axis=1)\n",
    "medical_case_complete['BELIEF_2'] = prediction_data.apply(lambda row: rescale_belief(row['PREDICTION'],row['SCORE']),axis=1)\n",
    "medical_case_complete['ADJUSTED_BELIEF'] = np.where(pd.to_datetime(medical_case_complete.DATETIME, format=\"%Y-%m-%d %H:%M:%S\")<hf_datetime, medical_case_complete['BELIEF_1'], medical_case_complete['BELIEF_2'])"
   ]
  },
  {
   "cell_type": "code",
   "execution_count": null,
   "id": "07b7fc4a",
   "metadata": {},
   "outputs": [],
   "source": [
    "# Plot the performance for the differents hospital in the same figure to be compared \n",
    "caseid = medical_case_complete.CASEID.unique()\n",
    "op_day = pd.to_datetime('2021/07/13', format=\"%Y/%m/%d\")\n",
    "model_change_day = pd.to_datetime('2021-04-16 07:57:47', format=\"%Y-%m-%d %H:%M:%S\")\n",
    "case_obs_complete = medical_case_complete\n",
    "myDates = case_obs_complete['DATETIME']\n",
    "myDates = pd.to_datetime(case_obs_complete['DATETIME'], format=\"%Y-%m-%d %H:%M:%S\")\n",
    "myValues_comp = case_obs_complete['ADJUSTED_BELIEFHDZ'].to_numpy()\n",
    "\n",
    "fig, axs = plt.subplots(1, figsize=(30,15))\n",
    "fig.set_facecolor('w')\n",
    "myFmt = DateFormatter('%m-%d')\n",
    "\n",
    "axs.plot(myDates,case_obs_complete['ADJUSTED_BELIEF'].to_numpy(), drawstyle=\"steps-post\")\n",
    "axs.xaxis.set_major_formatter(myFmt)\n",
    "axs.set_xlabel('Days', size=24)\n",
    "axs.set_ylabel('Belief', size=24)\n",
    "axs.axhspan(0.0,0.5, facecolor='g', alpha= 0.12)\n",
    "axs.axhspan(0.5,0.75, facecolor='orange', alpha= 0.12)\n",
    "axs.axhspan(0.75,1, facecolor='r', alpha= 0.12)\n",
    "axs.axvline(x=op_day,label='Operation day '+str(op_day.date()), c='r')\n",
    "axs.set_ylim(ymin=0, ymax = 1.01)\n",
    "axs.tick_params(axis='both', which='major', labelsize=20)\n",
    "\n",
    "if myDates.min()< model_change_day<myDates.max() :\n",
    "    axs.axvline(x=model_change_day,label='Model change', c='g')\n",
    "\n",
    "axs.legend(prop={'size': 20})\n",
    "\n",
    "plt.figure()\n",
    "fig.savefig(f'{path}/medical_case_'+str(int(caseid))+'.jpg', bbox_inches = 'tight')"
   ]
  }
 ],
 "metadata": {
  "kernelspec": {
   "display_name": "Python 3",
   "language": "python",
   "name": "python3"
  },
  "language_info": {
   "codemirror_mode": {
    "name": "ipython",
    "version": 3
   },
   "file_extension": ".py",
   "mimetype": "text/x-python",
   "name": "python",
   "nbconvert_exporter": "python",
   "pygments_lexer": "ipython3",
   "version": "3.6.9"
  }
 },
 "nbformat": 4,
 "nbformat_minor": 5
}
