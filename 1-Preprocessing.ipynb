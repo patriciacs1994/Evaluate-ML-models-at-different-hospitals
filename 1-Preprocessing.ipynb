{
 "cells": [
  {
   "cell_type": "markdown",
   "id": "e41822f4",
   "metadata": {},
   "source": [
    "# Prepare the log data for analysis"
   ]
  },
  {
   "cell_type": "markdown",
   "id": "2246c37d",
   "metadata": {},
   "source": [
    "### 1. Import the required libraries"
   ]
  },
  {
   "cell_type": "code",
   "execution_count": null,
   "id": "4ab27125",
   "metadata": {},
   "outputs": [],
   "source": [
    "import pandas as pd \n",
    "import re\n",
    "import math"
   ]
  },
  {
   "cell_type": "markdown",
   "id": "d20dbe00",
   "metadata": {},
   "source": [
    "### 2. Provide some general information about the log"
   ]
  },
  {
   "cell_type": "code",
   "execution_count": null,
   "id": "2504f9d6",
   "metadata": {},
   "outputs": [],
   "source": [
    "### General input\n",
    "use_case = 'aki'\n",
    "date_logs =['20210806']\n",
    "customer = 'HDZ'\n",
    "path = r'logs'\n",
    "path_log_file = f'{path}/{customer}/{date_logs[-1]}'\n",
    "dates_indicator = '_'.join(date_logs)"
   ]
  },
  {
   "cell_type": "markdown",
   "id": "e76866c5",
   "metadata": {},
   "source": [
    "### 3. Read in the log file and create a dataframe with all observation in the logs"
   ]
  },
  {
   "cell_type": "code",
   "execution_count": null,
   "id": "28f803ff",
   "metadata": {},
   "outputs": [],
   "source": [
    "#Merge the log files\n",
    "aggregated_log=[]\n",
    "\n",
    "for date_log in date_logs:\n",
    "    with open(f'{path}/{customer}/{date_log}/{customer}_{date_log}-{use_case[0:3]}-model.log', \"r\") as log:\n",
    "        for line in log:\n",
    "            aggregated_log.append(line)\n"
   ]
  },
  {
   "cell_type": "markdown",
   "id": "8dbe6373",
   "metadata": {},
   "source": [
    "### 4. Extract the predictions from the RESPONSE line in the log"
   ]
  },
  {
   "cell_type": "code",
   "execution_count": null,
   "id": "61bd66aa",
   "metadata": {},
   "outputs": [],
   "source": [
    "prediction_data = pd.DataFrame(columns=['CASEID','DATE', 'OBS','BELIEF'])\n",
    "cases=[]\n",
    "beliefs = []\n",
    "observations = []\n",
    "dates=[]\n",
    "for line in aggregated_log:\n",
    "    if re.search('RESPONSE',line):\n",
    "        step1 = re.sub('^.* RESPONSE ','',line)\n",
    "        step2 = re.sub('\\\\\\\\n\".*$','',step1)\n",
    "        step3 = re.sub('^.*:\"','',line)[:19]\n",
    "        \n",
    "        step5 = line.replace(\"\\\\\",\"\")\n",
    "        obs = re.sub('}n',': ',step5).split('\": \"')[2]\n",
    "        result = re.sub('\\n', '', step2)\n",
    "        case = result.split(': ')[0]\n",
    "        belief = result.split(': ')[2].split(',')[0]\n",
    "        cases.append(case)\n",
    "        \n",
    "        if ('DELIRIUM 1' in line )| ('SEPSIS 1' in line )|('AKI 1' in line ):\n",
    "            beliefs.append(math.exp(float(belief)))\n",
    "        else:\n",
    "            beliefs.append(1-math.exp(float(belief)))        \n",
    "        \n",
    "        dates.append(step3)\n",
    "        observations.append(obs)\n",
    "            \n",
    "prediction_data.CASEID = cases\n",
    "prediction_data.BELIEF = beliefs  \n",
    "prediction_data.DATE = dates\n",
    "prediction_data.OBS = observations\n",
    "prediction_data = prediction_data.sort_values(['CASEID','DATE'])"
   ]
  },
  {
   "cell_type": "code",
   "execution_count": null,
   "id": "fabe385b",
   "metadata": {},
   "outputs": [],
   "source": [
    "prediction_data = prediction_data.drop_duplicates()\n",
    "prediction_data['CASEID'] = prediction_data['CASEID'].astype(int)\n",
    "\n",
    "prediction_data['DATETIME'] = pd.to_datetime(prediction_data['DATE'], format=\"%Y-%m-%dT%H:%M:%S\")\n",
    "\n",
    "# date only on day level\n",
    "prediction_data['DATE'] = prediction_data['DATETIME'].apply(lambda x: x.date())\n",
    "\n",
    "# for predictions that belong to the same medical case and have same observations and belief, take just the last instance.\n",
    "prediction_data['DATETIME'] = prediction_data.groupby(['CASEID','DATE','OBS','BELIEF'])['DATETIME'].transform(max)\n"
   ]
  },
  {
   "cell_type": "code",
   "execution_count": null,
   "id": "f27ef61e",
   "metadata": {},
   "outputs": [],
   "source": [
    "prediction_data.to_csv(f'{path_log_file}/{use_case}/prediction_data.csv', index = False, sep = \";\")"
   ]
  }
 ],
 "metadata": {
  "kernelspec": {
   "display_name": "Python 3",
   "language": "python",
   "name": "python3"
  },
  "language_info": {
   "codemirror_mode": {
    "name": "ipython",
    "version": 3
   },
   "file_extension": ".py",
   "mimetype": "text/x-python",
   "name": "python",
   "nbconvert_exporter": "python",
   "pygments_lexer": "ipython3",
   "version": "3.6.9"
  }
 },
 "nbformat": 4,
 "nbformat_minor": 5
}
