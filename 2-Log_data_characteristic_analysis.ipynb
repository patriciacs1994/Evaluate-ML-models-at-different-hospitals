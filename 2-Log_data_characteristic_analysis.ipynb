{
 "cells": [
  {
   "cell_type": "markdown",
   "id": "e41822f4",
   "metadata": {},
   "source": [
    "# Characteristic analysis of log data"
   ]
  },
  {
   "cell_type": "markdown",
   "id": "2246c37d",
   "metadata": {},
   "source": [
    "### 1. Import the necessary mlpipeline functionality"
   ]
  },
  {
   "cell_type": "code",
   "execution_count": null,
   "id": "4ab27125",
   "metadata": {},
   "outputs": [],
   "source": [
    "import pandas as pd \n",
    "import numpy as np\n",
    "import re\n",
    "from datetime import timedelta\n",
    "import statistics"
   ]
  },
  {
   "cell_type": "markdown",
   "id": "d20dbe00",
   "metadata": {},
   "source": [
    "### 2. Provide some general information about the log"
   ]
  },
  {
   "cell_type": "code",
   "execution_count": null,
   "id": "2504f9d6",
   "metadata": {},
   "outputs": [],
   "source": [
    "### General input\n",
    "use_case = 'aki'\n",
    "customer = 'MKN'\n",
    "\n",
    "if customer == 'HDZ':\n",
    "    date_logs =['20210219', '20210226', '20210305','20210319','20210409','20210416','20210507','20210521','20210528','20210604','20210611','20210618','20210625','20210709','20210723','20210806']\n",
    "elif customer == 'MHS':\n",
    "    date_logs =['20210219', '20210226', '20210305','20210319','20210409','20210430','20210507','20210521','20210528','20210604','20210611','20210618','20210625','20210709','20210723', '20210811']\n",
    "elif customer == 'MKN':\n",
    "    date_logs =['20210219', '20210226', '20210305','20210625','20210709','20210723','20210806']\n",
    "\n",
    "dates_indicator = '_'.join(date_logs)\n",
    "path = r'logs'\n",
    "path_log_file = f'{path}/{customer}/{date_logs[-1]}'\n",
    "\n",
    "#Last outcome file path\n",
    "path_outcome_file = f'{path_log_file}/{date_logs[-1]}_{customer.lower()}_{use_case[0:3]}.txt'"
   ]
  },
  {
   "cell_type": "markdown",
   "id": "0e86044b",
   "metadata": {},
   "source": [
    "### 3. Read the log data discharged"
   ]
  },
  {
   "cell_type": "code",
   "execution_count": null,
   "id": "6f7cad51",
   "metadata": {},
   "outputs": [],
   "source": [
    "parser = lambda x: pd.datetime.strptime(x[0:20], '%Y-%m-%d %H:%M:%S')\n",
    "dtypes = {'CASEID':int,'OBS':str, 'BELIEF':float,'OBS_COMPLETE':str}\n",
    "\n",
    "discharged_df = pd.read_csv(f'{path_log_file}/{use_case}/discharged_df_complete.csv', sep = \";\",  dtype = dtypes , parse_dates=['DATETIME'], date_parser=parser)"
   ]
  },
  {
   "cell_type": "markdown",
   "id": "af198a00",
   "metadata": {},
   "source": [
    "### 4. Keep the medical cases discharged 60 days before the last outcome file"
   ]
  },
  {
   "cell_type": "code",
   "execution_count": null,
   "id": "a0c5c1a5",
   "metadata": {},
   "outputs": [],
   "source": [
    "# read the last outcome file which contains all positive medical cases\n",
    "outcome_file = pd.read_csv(path_outcome_file,  sep = ';')\n",
    "outcome_file = outcome_file[~outcome_file.CANCELDATE.notnull()]"
   ]
  },
  {
   "cell_type": "code",
   "execution_count": null,
   "id": "bc3397c1",
   "metadata": {},
   "outputs": [],
   "source": [
    "# Assign the labels to the prediction data\n",
    "discharged_df['LABEL'] = np.where(discharged_df['CASEID'].isin(outcome_file.FALLID),1,0)"
   ]
  },
  {
   "cell_type": "code",
   "execution_count": null,
   "id": "31897fde",
   "metadata": {},
   "outputs": [],
   "source": [
    "#read all the discharged cases\n",
    "dis_logs = date_logs\n",
    "discharged_df_total = pd.DataFrame(columns=['FALLID','AUFNDAT','ENTLDAT'])\n",
    "parser = lambda x: pd.datetime.strptime(x[0:10], '%d.%m.%Y')\n",
    "dtypes = {'FALLID':int, 'AUFNDAT':str, 'ENTLDAT':str}\n",
    "\n",
    "for dis_log in dis_logs:\n",
    "    discharged_file1 = pd.read_csv(f'{path}/{customer}/{dis_log}/{dis_log}_{customer.lower()}_discharges.txt',  sep = ';', dtype = dtypes , parse_dates=['AUFNDAT', 'ENTLDAT'], date_parser=parser)\n",
    "    discharged_df_total = pd.concat([discharged_file1, discharged_df_total])\n",
    "discharged_file = discharged_df_total.drop_duplicates(subset=\"FALLID\")"
   ]
  },
  {
   "cell_type": "code",
   "execution_count": null,
   "id": "1eee7861",
   "metadata": {},
   "outputs": [],
   "source": [
    "# the data of outcome is extracted from the path of outcome file\n",
    "outcome_date = pd.to_datetime(path_outcome_file[-20:-12], format=\"%Y%m%d\")\n",
    "\n",
    "# Define code deadline as 60 days before the end date\n",
    "code_deadline = outcome_date - timedelta(days = 60 )\n",
    "\n",
    "# If a case is discharged more than 60 days before the outcome file, it is considered as coded\n",
    "coded_cases = discharged_file[discharged_file.ENTLDAT<code_deadline].FALLID\n",
    "\n",
    "# If a case is considered as coded, keep the label, otherwise, set the label as -1, meaning unknown\n",
    "discharged_df['LABEL'] = np.where(discharged_df.CASEID.isin(coded_cases), discharged_df['LABEL'],-1)"
   ]
  },
  {
   "cell_type": "code",
   "execution_count": null,
   "id": "5c7041f1",
   "metadata": {},
   "outputs": [],
   "source": [
    "# Drop all the medical cases with unknown code/label\n",
    "discharged_df = discharged_df.drop(discharged_df[discharged_df.LABEL == -1].index)"
   ]
  },
  {
   "cell_type": "markdown",
   "id": "236f6b12",
   "metadata": {},
   "source": [
    "### 4. Extract the feature information from observations"
   ]
  },
  {
   "cell_type": "code",
   "execution_count": null,
   "id": "572a33cf",
   "metadata": {},
   "outputs": [],
   "source": [
    "def obs_list(t):\n",
    "    # Split the observation into a list of strings\n",
    "    return t.split(' ')\n",
    "\n",
    "discharged_df['OBS_SPLIT'] = discharged_df.OBS_COMPLETE.map(obs_list)"
   ]
  },
  {
   "cell_type": "code",
   "execution_count": null,
   "id": "9d000a44",
   "metadata": {},
   "outputs": [],
   "source": [
    "# Analyze the different characteristic of the log data\n",
    "num_records = len(discharged_df)\n",
    "\n",
    "def find_age_group_median(df):\n",
    "    matchers = ['AGE_GROUP']\n",
    "    age_group = []\n",
    "    for obs in df['OBS_SPLIT']:\n",
    "        age_group_string = [s for s in obs if any(xs in s for xs in matchers)]\n",
    "        age_group.append(int(age_group_string[0][-1]))\n",
    "    return round(statistics.mean(age_group),1)\n",
    "\n",
    "def find_sex(df):\n",
    "    matchers = ['GENDER']\n",
    "    gender_list = []\n",
    "    for obs in df['OBS_SPLIT']:\n",
    "        gender = [s for s in obs if any(xs in s for xs in matchers)]\n",
    "        if len(gender) != 0: \n",
    "            gender_list.append(gender[0])\n",
    "    return sum('GENDER-FEMALE' in s for s in gender_list)\n",
    "\n",
    "def find_historical(df):\n",
    "    matchers = ['HISTORI']\n",
    "    historical_count = 0\n",
    "    for obs in df['OBS_SPLIT']:\n",
    "        hist = [s for s in obs if any(xs in s for xs in matchers)]\n",
    "        if len(hist) != 0: \n",
    "            historical_count = historical_count + 1\n",
    "    return historical_count\n",
    "\n",
    "def find_admission_kind(df):\n",
    "    matchers = ['ADMISSION']\n",
    "    admission_type = []\n",
    "    for obs in df['OBS_SPLIT']:\n",
    "        admission = [s for s in obs if any(xs in s for xs in matchers)]\n",
    "        if len(admission) != 0:\n",
    "            admission_type.append(int(admission[0].partition('-')[-1]))\n",
    "            #.partition(\"-\")\n",
    "    return admission_type.count(1)+admission_type.count(14)+admission_type.count(8)+admission_type.count(41)\n",
    "\n",
    "def find_medication(df):\n",
    "    matchers = ['MEDICATION']\n",
    "    medication_count = 0 \n",
    "    for obs in df['OBS_SPLIT']:\n",
    "        medication = [s for s in obs if any(xs in s for xs in matchers)]\n",
    "        if len(medication) != 0:\n",
    "            medication_count = medication_count + 1\n",
    "    return medication_count\n",
    "\n",
    "def find_lab_results(df):\n",
    "    matchers = ['LAB_RESULT']\n",
    "    lab_results_count = 0 \n",
    "    for obs in df['OBS_SPLIT']:\n",
    "        lab_results = [s for s in obs if any(xs in s for xs in matchers)]\n",
    "        if len(lab_results) != 0:\n",
    "            lab_results_count = lab_results_count + 1\n",
    "    return lab_results_count\n",
    "\n",
    "def find_vital_sign(df):\n",
    "    matchers = ['VITAL_SIGN']\n",
    "    vital_sign_count = 0 \n",
    "    for obs in df['OBS_SPLIT']:\n",
    "        vital_sign = [s for s in obs if any(xs in s for xs in matchers)]\n",
    "        if len(vital_sign) != 0:\n",
    "            vital_sign_count = vital_sign_count + 1\n",
    "    return vital_sign_count\n",
    "\n",
    "def find_clinical_entities(df):\n",
    "    matchers = ['SELECTED_KEYWORD','DISORDER']\n",
    "    clinical_entities_count = 0 \n",
    "    for obs in df['OBS_SPLIT']:\n",
    "        clinical_entities = [s for s in obs if any(xs in s for xs in matchers)]\n",
    "        if len(clinical_entities) != 0:\n",
    "                clinical_entities_count = clinical_entities_count + 1\n",
    "    return clinical_entities_count\n",
    "\n",
    "age_group_median = find_age_group_median(discharged_df)\n",
    "fem_gender_total = find_sex(discharged_df)\n",
    "historical_total = find_historical(discharged_df)\n",
    "normal_admission = find_admission_kind(discharged_df)\n",
    "medication = find_medication(discharged_df)\n",
    "lab_results = find_lab_results(discharged_df)\n",
    "vital_sign = find_vital_sign(discharged_df)\n",
    "clinical_entities = find_clinical_entities(discharged_df)\n",
    "\n",
    "#Dataframe fill\n",
    "characteristic_df = pd.DataFrame()\n",
    "characteristic_df['N_of_records'] = [len(discharged_df)]\n",
    "characteristic_df['Age_group'] = age_group_median\n",
    "characteristic_df['Female_sex'] = str(fem_gender_total) + \" (\"+str(round(fem_gender_total/len(discharged_df)*100))+\"%)\"\n",
    "characteristic_df['Normal_admission'] = str(normal_admission) + \" (\"+str(round(normal_admission/len(discharged_df)*100))+\"%)\"\n",
    "characteristic_df['Emergency_admission'] = str(len(discharged_df)-normal_admission) + \" (\"+str(round((len(discharged_df)-normal_admission)/len(discharged_df)*100))+\"%)\"\n",
    "characteristic_df['History'] = str(historical_total) + \" (\"+str(round(historical_total/len(discharged_df)*100))+\"%)\"\n",
    "characteristic_df['Medication'] = str(medication) + \" (\"+str(round(medication/len(discharged_df)*100))+\"%)\"\n",
    "characteristic_df['Lab_results'] = str(lab_results) + \" (\"+str(round(lab_results/len(discharged_df)*100))+\"%)\"\n",
    "characteristic_df['Vital_sign'] = str(vital_sign) + \" (\"+str(round(vital_sign/len(discharged_df)*100))+\"%)\"\n",
    "characteristic_df['Named_Clinical_Entities'] = str(clinical_entities) + \" (\"+str(round(clinical_entities/len(discharged_df)*100))+\"%)\"\n"
   ]
  },
  {
   "cell_type": "code",
   "execution_count": null,
   "id": "3c2d3672",
   "metadata": {},
   "outputs": [],
   "source": [
    "#save the characteristic table\n",
    "characteristic_df.to_csv(f'{path_log_file}/{use_case}/characteristic_table_{customer}_{use_case}.csv', index = False, sep = \";\")"
   ]
  }
 ],
 "metadata": {
  "kernelspec": {
   "display_name": "Python 3",
   "language": "python",
   "name": "python3"
  },
  "language_info": {
   "codemirror_mode": {
    "name": "ipython",
    "version": 3
   },
   "file_extension": ".py",
   "mimetype": "text/x-python",
   "name": "python",
   "nbconvert_exporter": "python",
   "pygments_lexer": "ipython3",
   "version": "3.6.9"
  }
 },
 "nbformat": 4,
 "nbformat_minor": 5
}
